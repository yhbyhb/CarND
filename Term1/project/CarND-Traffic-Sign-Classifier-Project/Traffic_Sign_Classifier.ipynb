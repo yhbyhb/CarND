{
 "cells": [
  {
   "cell_type": "markdown",
   "metadata": {},
   "source": [
    "# Self-Driving Car Engineer Nanodegree\n",
    "\n",
    "## Deep Learning\n",
    "\n",
    "## Project: Build a Traffic Sign Recognition Classifier\n",
    "\n",
    "In this notebook, a template is provided for you to implement your functionality in stages, which is required to successfully complete this project. If additional code is required that cannot be included in the notebook, be sure that the Python code is successfully imported and included in your submission if necessary. \n",
    "\n",
    "> **Note**: Once you have completed all of the code implementations, you need to finalize your work by exporting the iPython Notebook as an HTML document. Before exporting the notebook to html, all of the code cells need to have been run so that reviewers can see the final implementation and output. You can then export the notebook by using the menu above and navigating to  \\n\",\n",
    "    \"**File -> Download as -> HTML (.html)**. Include the finished document along with this notebook as your submission. \n",
    "\n",
    "In addition to implementing code, there is a writeup to complete. The writeup should be completed in a separate file, which can be either a markdown file or a pdf document. There is a [write up template](https://github.com/udacity/CarND-Traffic-Sign-Classifier-Project/blob/master/writeup_template.md) that can be used to guide the writing process. Completing the code template and writeup template will cover all of the [rubric points](https://review.udacity.com/#!/rubrics/481/view) for this project.\n",
    "\n",
    "The [rubric](https://review.udacity.com/#!/rubrics/481/view) contains \"Stand Out Suggestions\" for enhancing the project beyond the minimum requirements. The stand out suggestions are optional. If you decide to pursue the \"stand out suggestions\", you can include the code in this Ipython notebook and also discuss the results in the writeup file.\n",
    "\n",
    "\n",
    ">**Note:** Code and Markdown cells can be executed using the **Shift + Enter** keyboard shortcut. In addition, Markdown cells can be edited by typically double-clicking the cell to enter edit mode."
   ]
  },
  {
   "cell_type": "markdown",
   "metadata": {},
   "source": [
    "---\n",
    "## Step 0: Load The Data"
   ]
  },
  {
   "cell_type": "code",
   "execution_count": 1,
   "metadata": {
    "collapsed": true
   },
   "outputs": [],
   "source": [
    "# Load pickled data\n",
    "import pickle\n",
    "\n",
    "# TODO: Fill this in based on where you saved the training and testing data\n",
    "\n",
    "training_file = 'train.p'\n",
    "validation_file= 'valid.p'\n",
    "testing_file = 'test.p'\n",
    "\n",
    "with open(training_file, mode='rb') as f:\n",
    "    train = pickle.load(f)\n",
    "with open(validation_file, mode='rb') as f:\n",
    "    valid = pickle.load(f)\n",
    "with open(testing_file, mode='rb') as f:\n",
    "    test = pickle.load(f)\n",
    "    \n",
    "X_train, y_train = train['features'], train['labels']\n",
    "X_valid, y_valid = valid['features'], valid['labels']\n",
    "X_test, y_test = test['features'], test['labels']"
   ]
  },
  {
   "cell_type": "markdown",
   "metadata": {},
   "source": [
    "---\n",
    "\n",
    "## Step 1: Dataset Summary & Exploration\n",
    "\n",
    "The pickled data is a dictionary with 4 key/value pairs:\n",
    "\n",
    "- `'features'` is a 4D array containing raw pixel data of the traffic sign images, (num examples, width, height, channels).\n",
    "- `'labels'` is a 1D array containing the label/class id of the traffic sign. The file `signnames.csv` contains id -> name mappings for each id.\n",
    "- `'sizes'` is a list containing tuples, (width, height) representing the original width and height the image.\n",
    "- `'coords'` is a list containing tuples, (x1, y1, x2, y2) representing coordinates of a bounding box around the sign in the image. **THESE COORDINATES ASSUME THE ORIGINAL IMAGE. THE PICKLED DATA CONTAINS RESIZED VERSIONS (32 by 32) OF THESE IMAGES**\n",
    "\n",
    "Complete the basic data summary below. Use python, numpy and/or pandas methods to calculate the data summary rather than hard coding the results. For example, the [pandas shape method](http://pandas.pydata.org/pandas-docs/stable/generated/pandas.DataFrame.shape.html) might be useful for calculating some of the summary results. "
   ]
  },
  {
   "cell_type": "markdown",
   "metadata": {},
   "source": [
    "### Provide a Basic Summary of the Data Set Using Python, Numpy and/or Pandas"
   ]
  },
  {
   "cell_type": "code",
   "execution_count": 2,
   "metadata": {},
   "outputs": [
    {
     "name": "stdout",
     "output_type": "stream",
     "text": [
      "Number of training examples = 34799\n",
      "Number of testing examples = 6\n",
      "Image data shape = (32, 32, 3)\n",
      "Number of classes = 43\n"
     ]
    }
   ],
   "source": [
    "### Replace each question mark with the appropriate value. \n",
    "### Use python, pandas or numpy methods rather than hard coding the results\n",
    "\n",
    "# TODO: Number of training examples\n",
    "n_train = len(X_train)\n",
    "\n",
    "# TODO: Number of validation examples\n",
    "n_validation = len(validation_file)\n",
    "\n",
    "# TODO: Number of testing examples.\n",
    "n_test = len(testing_file)\n",
    "\n",
    "# TODO: What's the shape of an traffic sign image?\n",
    "image_shape = X_train[0].shape\n",
    "\n",
    "# TODO: How many unique classes/labels there are in the dataset.\n",
    "n_classes = len(set(y_train))\n",
    "\n",
    "print(\"Number of training examples =\", n_train)\n",
    "print(\"Number of testing examples =\", n_test)\n",
    "print(\"Image data shape =\", image_shape)\n",
    "print(\"Number of classes =\", n_classes)"
   ]
  },
  {
   "cell_type": "markdown",
   "metadata": {},
   "source": [
    "### Include an exploratory visualization of the dataset"
   ]
  },
  {
   "cell_type": "markdown",
   "metadata": {},
   "source": [
    "Visualize the German Traffic Signs Dataset using the pickled file(s). This is open ended, suggestions include: plotting traffic sign images, plotting the count of each sign, etc. \n",
    "\n",
    "The [Matplotlib](http://matplotlib.org/) [examples](http://matplotlib.org/examples/index.html) and [gallery](http://matplotlib.org/gallery.html) pages are a great resource for doing visualizations in Python.\n",
    "\n",
    "**NOTE:** It's recommended you start with something simple first. If you wish to do more, come back to it after you've completed the rest of the sections. It can be interesting to look at the distribution of classes in the training, validation and test set. Is the distribution the same? Are there more examples of some classes than others?"
   ]
  },
  {
   "cell_type": "code",
   "execution_count": 3,
   "metadata": {
    "collapsed": true
   },
   "outputs": [],
   "source": [
    "### Data exploration visualization code goes here.\n",
    "### Feel free to use as many code cells as needed.\n",
    "import matplotlib.pyplot as plt\n",
    "# Visualizations will be shown in the notebook.\n",
    "%matplotlib inline\n",
    "import numpy as np\n",
    "import tensorflow as tf\n",
    "from sklearn.utils import shuffle"
   ]
  },
  {
   "cell_type": "code",
   "execution_count": 4,
   "metadata": {},
   "outputs": [
    {
     "data": {
      "image/png": "[encoded data removed]",
      "text/plain": [
       "<matplotlib.figure.Figure at 0x7fbe050294e0>"
      ]
     },
     "metadata": {},
     "output_type": "display_data"
    }
   ],
   "source": [
    "idx = np.random.randint(0, X_train.shape[0], size=36)\n",
    "fig, axes = plt.subplots(6, 6, sharex=True, sharey=True, figsize=(5,5),)\n",
    "for ii, ax in zip(idx, axes.flatten()):\n",
    "    ax.imshow(X_train[ii,:,:,:], aspect='equal')\n",
    "    ax.xaxis.set_visible(False)\n",
    "    ax.yaxis.set_visible(False)\n",
    "plt.subplots_adjust(wspace=0, hspace=0)"
   ]
  },
  {
   "cell_type": "code",
   "execution_count": 5,
   "metadata": {},
   "outputs": [
    {
     "data": {
      "text/plain": [
       "([array([  180.,  1980.,  2010.,  1260.,  1770.,  1650.,   360.,  1290.,\n",
       "          1260.,  1320.,  1800.,  1170.,  1890.,  1920.,   690.,   540.,\n",
       "           360.,   990.,  1080.,   180.,   300.,   270.,   330.,   450.,\n",
       "           240.,  1350.,   540.,   210.,   480.,   240.,   390.,   690.,\n",
       "           210.,   599.,   360.,  1080.,   330.,   180.,  1860.,   270.,\n",
       "           300.,   210.,   210.]),\n",
       "  array([  30.,  240.,  240.,  150.,  210.,  210.,   60.,  150.,  150.,\n",
       "          150.,  210.,  150.,  210.,  240.,   90.,   90.,   60.,  120.,\n",
       "          120.,   30.,   60.,   60.,   60.,   60.,   30.,  150.,   60.,\n",
       "           30.,   60.,   30.,   60.,   90.,   30.,   90.,   60.,  120.,\n",
       "           60.,   30.,  210.,   30.,   60.,   30.,   30.]),\n",
       "  array([  60.,  720.,  750.,  450.,  660.,  630.,  150.,  450.,  450.,\n",
       "          480.,  660.,  420.,  690.,  720.,  270.,  210.,  150.,  360.,\n",
       "          390.,   60.,   90.,   90.,  120.,  150.,   90.,  480.,  180.,\n",
       "           60.,  150.,   90.,  150.,  270.,   60.,  210.,  120.,  390.,\n",
       "          120.,   60.,  690.,   90.,   90.,   60.,   90.])],\n",
       " array([  0.        ,   0.97674419,   1.95348837,   2.93023256,\n",
       "          3.90697674,   4.88372093,   5.86046512,   6.8372093 ,\n",
       "          7.81395349,   8.79069767,   9.76744186,  10.74418605,\n",
       "         11.72093023,  12.69767442,  13.6744186 ,  14.65116279,\n",
       "         15.62790698,  16.60465116,  17.58139535,  18.55813953,\n",
       "         19.53488372,  20.51162791,  21.48837209,  22.46511628,\n",
       "         23.44186047,  24.41860465,  25.39534884,  26.37209302,\n",
       "         27.34883721,  28.3255814 ,  29.30232558,  30.27906977,\n",
       "         31.25581395,  32.23255814,  33.20930233,  34.18604651,\n",
       "         35.1627907 ,  36.13953488,  37.11627907,  38.09302326,\n",
       "         39.06976744,  40.04651163,  41.02325581,  42.        ]),\n",
       " <a list of 3 Lists of Patches objects>)"
      ]
     },
     "execution_count": 5,
     "metadata": {},
     "output_type": "execute_result"
    },
    {
     "data": {
      "image/png": "[encoded data removed]",
      "text/plain": [
       "<matplotlib.figure.Figure at 0x7fbe05021fd0>"
      ]
     },
     "metadata": {},
     "output_type": "display_data"
    }
   ],
   "source": [
    "y_list = [y_train, y_valid, y_test]\n",
    "plt.hist(y_list, bins=43)\n",
    "# plt.hist(y_valid, normed=True, bins=43, histtype='bar')\n",
    "# plt.hist(y_test, normed=True, bins=43,histtype='bar')"
   ]
  },
  {
   "cell_type": "markdown",
   "metadata": {},
   "source": [
    "----\n",
    "\n",
    "## Step 2: Design and Test a Model Architecture\n",
    "\n",
    "Design and implement a deep learning model that learns to recognize traffic signs. Train and test your model on the [German Traffic Sign Dataset](http://benchmark.ini.rub.de/?section=gtsrb&subsection=dataset).\n",
    "\n",
    "The LeNet-5 implementation shown in the [classroom](https://classroom.udacity.com/nanodegrees/nd013/parts/fbf77062-5703-404e-b60c-95b78b2f3f9e/modules/6df7ae49-c61c-4bb2-a23e-6527e69209ec/lessons/601ae704-1035-4287-8b11-e2c2716217ad/concepts/d4aca031-508f-4e0b-b493-e7b706120f81) at the end of the CNN lesson is a solid starting point. You'll have to change the number of classes and possibly the preprocessing, but aside from that it's plug and play! \n",
    "\n",
    "With the LeNet-5 solution from the lecture, you should expect a validation set accuracy of about 0.89. To meet specifications, the validation set accuracy will need to be at least 0.93. It is possible to get an even higher accuracy, but 0.93 is the minimum for a successful project submission. \n",
    "\n",
    "There are various aspects to consider when thinking about this problem:\n",
    "\n",
    "- Neural network architecture (is the network over or underfitting?)\n",
    "- Play around preprocessing techniques (normalization, rgb to grayscale, etc)\n",
    "- Number of examples per label (some have more than others).\n",
    "- Generate fake data.\n",
    "\n",
    "Here is an example of a [published baseline model on this problem](http://yann.lecun.com/exdb/publis/pdf/sermanet-ijcnn-11.pdf). It's not required to be familiar with the approach used in the paper but, it's good practice to try to read papers like these."
   ]
  },
  {
   "cell_type": "markdown",
   "metadata": {},
   "source": [
    "### Pre-process the Data Set (normalization, grayscale, etc.)"
   ]
  },
  {
   "cell_type": "markdown",
   "metadata": {},
   "source": [
    "Minimally, the image data should be normalized so that the data has mean zero and equal variance. For image data, `(pixel - 128)/ 128` is a quick way to approximately normalize the data and can be used in this project. \n",
    "\n",
    "Other pre-processing steps are optional. You can try different techniques to see if it improves performance. \n",
    "\n",
    "Use the code cell (or multiple code cells, if necessary) to implement the first step of your project."
   ]
  },
  {
   "cell_type": "code",
   "execution_count": 6,
   "metadata": {},
   "outputs": [],
   "source": [
    "### Preprocess the data here. It is required to normalize the data. Other preprocessing steps could include \n",
    "### converting to grayscale, etc.\n",
    "### Feel free to use as many code cells as needed.\n",
    "\n",
    "# X_train = np.mean(X_train, axis=3, keepdims=True)\n",
    "# X_valid = np.mean(X_valid, axis=3, keepdims=True)\n",
    "# X_test = np.mean(X_test, axis=3, keepdims=True)\n",
    "def normalize(x):\n",
    "    return (x - 128.) / 128.\n",
    "\n",
    "X_train = normalize(X_train)\n",
    "X_valid = normalize(X_valid)\n",
    "X_test = normalize(X_test)\n",
    "\n",
    "n_channel = X_train[0].shape[2]"
   ]
  },
  {
   "cell_type": "markdown",
   "metadata": {},
   "source": [
    "### Model Architecture"
   ]
  },
  {
   "cell_type": "code",
   "execution_count": 7,
   "metadata": {
    "collapsed": true
   },
   "outputs": [],
   "source": [
    "### Define your architecture here.\n",
    "### Feel free to use as many code cells as needed.\n",
    "from tensorflow.contrib.layers import flatten\n",
    "\n",
    "def MyTrafficSignNet(x):    \n",
    "    # Arguments used for tf.truncated_normal, randomly defines variables for the weights and biases for each layer\n",
    "    mu = 0\n",
    "    sigma = 0.1\n",
    "    \n",
    "    # Layer 1: Convolutional. Input = 32x32xn_channel. Output = 28x28x50.\n",
    "    conv1_kernels = 50\n",
    "    conv1_W = tf.Variable(tf.truncated_normal(shape=(5, 5, n_channel, conv1_kernels), mean = mu, stddev = sigma))\n",
    "    conv1_b = tf.Variable(tf.zeros(conv1_kernels))\n",
    "    conv1   = tf.nn.conv2d(x, conv1_W, strides=[1, 1, 1, 1], padding='VALID') + conv1_b\n",
    "    conv1 = tf.nn.relu(conv1)\n",
    "    #Pooling. Input = 28x28x50. Output = 14x14x100.\n",
    "    conv1 = tf.nn.max_pool(conv1, ksize=[1, 2, 2, 1], strides=[1, 2, 2, 1], padding='VALID')\n",
    "\n",
    "    # Layer 2: Convolutional. Output = 10x10x100.\n",
    "    conv2_kernels = 100\n",
    "    conv2_W = tf.Variable(tf.truncated_normal(shape=(5, 5, conv1_kernels, conv2_kernels), mean = mu, stddev = sigma))\n",
    "    conv2_b = tf.Variable(tf.zeros(conv2_kernels))\n",
    "    conv2   = tf.nn.conv2d(conv1, conv2_W, strides=[1, 1, 1, 1], padding='VALID') + conv2_b\n",
    "    conv2 = tf.nn.relu(conv2)\n",
    "    # Pooling. Input = 10x10x100. Output = 5x5x100.\n",
    "    conv2 = tf.nn.max_pool(conv2, ksize=[1, 2, 2, 1], strides=[1, 2, 2, 1], padding='VALID')\n",
    "    # Flatten. Input = 5x5x100. Output = 2500.\n",
    "    fc0   = flatten(conv2)\n",
    "    \n",
    "    # Layer 3: Fully Connected. Input = 2500. Output = 100.\n",
    "    fc1_unit = 100\n",
    "    fc1_W = tf.Variable(tf.truncated_normal(shape=(5*5*100, fc1_unit), mean = mu, stddev = sigma))\n",
    "    fc1_b = tf.Variable(tf.zeros(fc1_unit))\n",
    "    fc1   = tf.matmul(fc0, fc1_W) + fc1_b\n",
    "    fc1   = tf.nn.relu(fc1)\n",
    "    fc1   = tf.nn.dropout(fc1, keep_prob)\n",
    "\n",
    "    # Layer 4: Fully Connected. Input = 100. Output = 100.\n",
    "    fc2_unit = 100\n",
    "    fc2_W = tf.Variable(tf.truncated_normal(shape=(fc1_unit, fc2_unit), mean = mu, stddev = sigma))\n",
    "    fc2_b = tf.Variable(tf.zeros(fc2_unit))\n",
    "    fc2   = tf.matmul(fc1, fc2_W) + fc2_b\n",
    "    fc2   = tf.nn.relu(fc2)\n",
    "    fc2   = tf.nn.dropout(fc2, keep_prob)\n",
    "\n",
    "    # Layer 5: Fully Connected. Input = 100. Output = 43.\n",
    "    fc3_W  = tf.Variable(tf.truncated_normal(shape=(fc2_unit, n_classes), mean = mu, stddev = sigma))\n",
    "    fc3_b  = tf.Variable(tf.zeros(n_classes))\n",
    "    logits = tf.matmul(fc2, fc3_W) + fc3_b\n",
    "    \n",
    "    return logits"
   ]
  },
  {
   "cell_type": "markdown",
   "metadata": {},
   "source": [
    "### Train, Validate and Test the Model"
   ]
  },
  {
   "cell_type": "markdown",
   "metadata": {},
   "source": [
    "A validation set can be used to assess how well the model is performing. A low accuracy on the training and validation\n",
    "sets imply underfitting. A high accuracy on the training set but low accuracy on the validation set implies overfitting."
   ]
  },
  {
   "cell_type": "code",
   "execution_count": 8,
   "metadata": {
    "collapsed": true
   },
   "outputs": [],
   "source": [
    "### Train your model here.\n",
    "### Calculate and report the accuracy on the training and validation set.\n",
    "### Once a final model architecture is selected, \n",
    "### the accuracy on the test set should be calculated and reported as well.\n",
    "### Feel free to use as many code cells as needed.\n",
    "tf.reset_default_graph()\n",
    "\n",
    "x = tf.placeholder(tf.float32, (None, image_shape[0], image_shape[1], n_channel), name='x')\n",
    "y = tf.placeholder(tf.int32, (None))\n",
    "keep_prob = tf.placeholder(tf.float32, name='keep_prob')\n",
    "one_hot_y = tf.one_hot(y, n_classes)\n",
    "\n",
    "rate = 0.001\n",
    "EPOCHS = 30\n",
    "BATCH_SIZE = 128\n",
    "dropout_keep_prob = 0.5\n",
    "\n",
    "logits = MyTrafficSignNet(x)\n",
    "cross_entropy = tf.nn.softmax_cross_entropy_with_logits(labels=one_hot_y, logits=logits)\n",
    "loss_operation = tf.reduce_mean(cross_entropy)\n",
    "optimizer = tf.train.AdamOptimizer(learning_rate = rate)\n",
    "training_operation = optimizer.minimize(loss_operation)\n",
    "\n",
    "correct_prediction = tf.equal(tf.argmax(logits, 1), tf.argmax(one_hot_y, 1))\n",
    "accuracy_operation = tf.reduce_mean(tf.cast(correct_prediction, tf.float32))\n",
    "saver = tf.train.Saver()"
   ]
  },
  {
   "cell_type": "code",
   "execution_count": 9,
   "metadata": {
    "collapsed": true
   },
   "outputs": [],
   "source": [
    "def evaluate(X_data, y_data):\n",
    "    num_examples = len(X_data)\n",
    "    total_accuracy = 0\n",
    "    sess = tf.get_default_session()\n",
    "    for offset in range(0, num_examples, BATCH_SIZE):\n",
    "        batch_x, batch_y = X_data[offset:offset+BATCH_SIZE], y_data[offset:offset+BATCH_SIZE]\n",
    "        accuracy = sess.run(accuracy_operation, feed_dict={x: batch_x, y: batch_y, keep_prob: 1.0})\n",
    "        total_accuracy += (accuracy * len(batch_x))\n",
    "    return total_accuracy / num_examples"
   ]
  },
  {
   "cell_type": "code",
   "execution_count": 10,
   "metadata": {},
   "outputs": [
    {
     "name": "stdout",
     "output_type": "stream",
     "text": [
      "Training...\n",
      "\n",
      "Epoch 1/30, samples 0/34799 loss : 3.8950324058532715, training_accuracy : 0.015625\n",
      "Epoch 1/30, samples 12800/34799 loss : 2.892587184906006, training_accuracy : 0.3515625\n",
      "Epoch 1/30, samples 25600/34799 loss : 1.4932736158370972, training_accuracy : 0.6875\n",
      "\n",
      "EPOCH 1 ...\n",
      "Validation Accuracy = 0.597\n",
      "\n",
      "Epoch 2/30, samples 0/34799 loss : 1.2326308488845825, training_accuracy : 0.734375\n",
      "Epoch 2/30, samples 12800/34799 loss : 0.9750404357910156, training_accuracy : 0.7265625\n",
      "Epoch 2/30, samples 25600/34799 loss : 0.7272234559059143, training_accuracy : 0.8125\n",
      "\n",
      "EPOCH 2 ...\n",
      "Validation Accuracy = 0.803\n",
      "\n",
      "Epoch 3/30, samples 0/34799 loss : 0.4766308665275574, training_accuracy : 0.90625\n",
      "Epoch 3/30, samples 12800/34799 loss : 0.4430168867111206, training_accuracy : 0.8984375\n",
      "Epoch 3/30, samples 25600/34799 loss : 0.43350327014923096, training_accuracy : 0.890625\n",
      "\n",
      "EPOCH 3 ...\n",
      "Validation Accuracy = 0.874\n",
      "\n",
      "Epoch 4/30, samples 0/34799 loss : 0.4731076955795288, training_accuracy : 0.9296875\n",
      "Epoch 4/30, samples 12800/34799 loss : 0.2853686511516571, training_accuracy : 0.9609375\n",
      "Epoch 4/30, samples 25600/34799 loss : 0.2849544882774353, training_accuracy : 0.921875\n",
      "\n",
      "EPOCH 4 ...\n",
      "Validation Accuracy = 0.889\n",
      "\n",
      "Epoch 5/30, samples 0/34799 loss : 0.21053308248519897, training_accuracy : 0.9453125\n",
      "Epoch 5/30, samples 12800/34799 loss : 0.21195685863494873, training_accuracy : 0.96875\n",
      "Epoch 5/30, samples 25600/34799 loss : 0.22773680090904236, training_accuracy : 0.9375\n",
      "\n",
      "EPOCH 5 ...\n",
      "Validation Accuracy = 0.922\n",
      "\n",
      "Epoch 6/30, samples 0/34799 loss : 0.1829957664012909, training_accuracy : 0.984375\n",
      "Epoch 6/30, samples 12800/34799 loss : 0.16757182776927948, training_accuracy : 0.953125\n",
      "Epoch 6/30, samples 25600/34799 loss : 0.12387438118457794, training_accuracy : 0.9921875\n",
      "\n",
      "EPOCH 6 ...\n",
      "Validation Accuracy = 0.932\n",
      "\n",
      "Epoch 7/30, samples 0/34799 loss : 0.11302245408296585, training_accuracy : 0.96875\n",
      "Epoch 7/30, samples 12800/34799 loss : 0.1118580624461174, training_accuracy : 0.9765625\n",
      "Epoch 7/30, samples 25600/34799 loss : 0.10448534786701202, training_accuracy : 0.984375\n",
      "\n",
      "EPOCH 7 ...\n",
      "Validation Accuracy = 0.938\n",
      "\n",
      "Epoch 8/30, samples 0/34799 loss : 0.09301318228244781, training_accuracy : 0.9921875\n",
      "Epoch 8/30, samples 12800/34799 loss : 0.06694971024990082, training_accuracy : 1.0\n",
      "Epoch 8/30, samples 25600/34799 loss : 0.08845282346010208, training_accuracy : 0.96875\n",
      "\n",
      "EPOCH 8 ...\n",
      "Validation Accuracy = 0.954\n",
      "\n",
      "Epoch 9/30, samples 0/34799 loss : 0.03691542148590088, training_accuracy : 1.0\n",
      "Epoch 9/30, samples 12800/34799 loss : 0.03418644145131111, training_accuracy : 1.0\n",
      "Epoch 9/30, samples 25600/34799 loss : 0.04498139023780823, training_accuracy : 1.0\n",
      "\n",
      "EPOCH 9 ...\n",
      "Validation Accuracy = 0.946\n",
      "\n",
      "Epoch 10/30, samples 0/34799 loss : 0.05388033017516136, training_accuracy : 0.984375\n",
      "Epoch 10/30, samples 12800/34799 loss : 0.03865158185362816, training_accuracy : 1.0\n",
      "Epoch 10/30, samples 25600/34799 loss : 0.041366443037986755, training_accuracy : 1.0\n",
      "\n",
      "EPOCH 10 ...\n",
      "Validation Accuracy = 0.960\n",
      "\n",
      "Epoch 11/30, samples 0/34799 loss : 0.04654961824417114, training_accuracy : 0.9921875\n",
      "Epoch 11/30, samples 12800/34799 loss : 0.01984531618654728, training_accuracy : 1.0\n",
      "Epoch 11/30, samples 25600/34799 loss : 0.04334697127342224, training_accuracy : 1.0\n",
      "\n",
      "EPOCH 11 ...\n",
      "Validation Accuracy = 0.956\n",
      "\n",
      "Epoch 12/30, samples 0/34799 loss : 0.04572366923093796, training_accuracy : 1.0\n",
      "Epoch 12/30, samples 12800/34799 loss : 0.012344230897724628, training_accuracy : 0.9921875\n",
      "Epoch 12/30, samples 25600/34799 loss : 0.04290056601166725, training_accuracy : 0.984375\n",
      "\n",
      "EPOCH 12 ...\n",
      "Validation Accuracy = 0.956\n",
      "\n",
      "Epoch 13/30, samples 0/34799 loss : 0.026315059512853622, training_accuracy : 0.9921875\n",
      "Epoch 13/30, samples 12800/34799 loss : 0.007710788398981094, training_accuracy : 1.0\n",
      "Epoch 13/30, samples 25600/34799 loss : 0.012136630713939667, training_accuracy : 1.0\n",
      "\n",
      "EPOCH 13 ...\n",
      "Validation Accuracy = 0.963\n",
      "\n",
      "Epoch 14/30, samples 0/34799 loss : 0.029659513384103775, training_accuracy : 0.9921875\n",
      "Epoch 14/30, samples 12800/34799 loss : 0.009672476910054684, training_accuracy : 1.0\n",
      "Epoch 14/30, samples 25600/34799 loss : 0.0075467368587851524, training_accuracy : 1.0\n",
      "\n",
      "EPOCH 14 ...\n",
      "Validation Accuracy = 0.955\n",
      "\n",
      "Epoch 15/30, samples 0/34799 loss : 0.07417478412389755, training_accuracy : 0.984375\n",
      "Epoch 15/30, samples 12800/34799 loss : 0.04191909730434418, training_accuracy : 0.984375\n",
      "Epoch 15/30, samples 25600/34799 loss : 0.04293069988489151, training_accuracy : 0.9921875\n",
      "\n",
      "EPOCH 15 ...\n",
      "Validation Accuracy = 0.963\n",
      "\n",
      "Epoch 16/30, samples 0/34799 loss : 0.0115409716963768, training_accuracy : 1.0\n",
      "Epoch 16/30, samples 12800/34799 loss : 0.007387323770672083, training_accuracy : 1.0\n",
      "Epoch 16/30, samples 25600/34799 loss : 0.018390359356999397, training_accuracy : 0.9921875\n",
      "\n",
      "EPOCH 16 ...\n",
      "Validation Accuracy = 0.960\n",
      "\n",
      "Epoch 17/30, samples 0/34799 loss : 0.015745973214507103, training_accuracy : 1.0\n",
      "Epoch 17/30, samples 12800/34799 loss : 0.00532635347917676, training_accuracy : 1.0\n",
      "Epoch 17/30, samples 25600/34799 loss : 0.012587618082761765, training_accuracy : 1.0\n",
      "\n",
      "EPOCH 17 ...\n",
      "Validation Accuracy = 0.958\n",
      "\n",
      "Epoch 18/30, samples 0/34799 loss : 0.006899520754814148, training_accuracy : 1.0\n",
      "Epoch 18/30, samples 12800/34799 loss : 0.024740902706980705, training_accuracy : 0.984375\n",
      "Epoch 18/30, samples 25600/34799 loss : 0.015948396176099777, training_accuracy : 1.0\n",
      "\n",
      "EPOCH 18 ...\n",
      "Validation Accuracy = 0.958\n",
      "\n",
      "Epoch 19/30, samples 0/34799 loss : 0.00579380989074707, training_accuracy : 1.0\n",
      "Epoch 19/30, samples 12800/34799 loss : 0.012318592518568039, training_accuracy : 1.0\n",
      "Epoch 19/30, samples 25600/34799 loss : 0.011579861864447594, training_accuracy : 1.0\n",
      "\n",
      "EPOCH 19 ...\n",
      "Validation Accuracy = 0.966\n",
      "\n",
      "Epoch 20/30, samples 0/34799 loss : 0.004023856483399868, training_accuracy : 1.0\n",
      "Epoch 20/30, samples 12800/34799 loss : 0.004865587688982487, training_accuracy : 1.0\n",
      "Epoch 20/30, samples 25600/34799 loss : 0.015291756018996239, training_accuracy : 1.0\n",
      "\n",
      "EPOCH 20 ...\n",
      "Validation Accuracy = 0.969\n",
      "\n",
      "Epoch 21/30, samples 0/34799 loss : 0.008356994949281216, training_accuracy : 1.0\n",
      "Epoch 21/30, samples 12800/34799 loss : 0.007552986964583397, training_accuracy : 1.0\n",
      "Epoch 21/30, samples 25600/34799 loss : 0.0041557857766747475, training_accuracy : 1.0\n",
      "\n",
      "EPOCH 21 ...\n",
      "Validation Accuracy = 0.960\n",
      "\n",
      "Epoch 22/30, samples 0/34799 loss : 0.011930868029594421, training_accuracy : 1.0\n",
      "Epoch 22/30, samples 12800/34799 loss : 0.012441054917871952, training_accuracy : 0.9921875\n",
      "Epoch 22/30, samples 25600/34799 loss : 0.008497060276567936, training_accuracy : 1.0\n",
      "\n",
      "EPOCH 22 ...\n",
      "Validation Accuracy = 0.959\n",
      "\n",
      "Epoch 23/30, samples 0/34799 loss : 0.0031733110081404448, training_accuracy : 1.0\n",
      "Epoch 23/30, samples 12800/34799 loss : 0.0014611699152737856, training_accuracy : 1.0\n",
      "Epoch 23/30, samples 25600/34799 loss : 0.005129382014274597, training_accuracy : 1.0\n",
      "\n",
      "EPOCH 23 ...\n",
      "Validation Accuracy = 0.958\n",
      "\n",
      "Epoch 24/30, samples 0/34799 loss : 0.005673687905073166, training_accuracy : 1.0\n",
      "Epoch 24/30, samples 12800/34799 loss : 0.0013281487626954913, training_accuracy : 1.0\n",
      "Epoch 24/30, samples 25600/34799 loss : 0.003599480027332902, training_accuracy : 1.0\n",
      "\n",
      "EPOCH 24 ...\n",
      "Validation Accuracy = 0.971\n",
      "\n",
      "Epoch 25/30, samples 0/34799 loss : 0.004058459307998419, training_accuracy : 1.0\n",
      "Epoch 25/30, samples 12800/34799 loss : 0.0021968516521155834, training_accuracy : 1.0\n",
      "Epoch 25/30, samples 25600/34799 loss : 0.006886166520416737, training_accuracy : 1.0\n",
      "\n",
      "EPOCH 25 ...\n",
      "Validation Accuracy = 0.959\n",
      "\n",
      "Epoch 26/30, samples 0/34799 loss : 0.002425727667286992, training_accuracy : 1.0\n",
      "Epoch 26/30, samples 12800/34799 loss : 0.0014163987943902612, training_accuracy : 1.0\n",
      "Epoch 26/30, samples 25600/34799 loss : 0.0022204709239304066, training_accuracy : 1.0\n",
      "\n",
      "EPOCH 26 ...\n",
      "Validation Accuracy = 0.970\n",
      "\n",
      "Epoch 27/30, samples 0/34799 loss : 0.013748683966696262, training_accuracy : 0.9921875\n",
      "Epoch 27/30, samples 12800/34799 loss : 0.0033314379397779703, training_accuracy : 1.0\n",
      "Epoch 27/30, samples 25600/34799 loss : 0.009944183751940727, training_accuracy : 0.9921875\n",
      "\n",
      "EPOCH 27 ...\n",
      "Validation Accuracy = 0.966\n",
      "\n",
      "Epoch 28/30, samples 0/34799 loss : 0.0022301676217466593, training_accuracy : 1.0\n"
     ]
    },
    {
     "name": "stdout",
     "output_type": "stream",
     "text": [
      "Epoch 28/30, samples 12800/34799 loss : 0.015923187136650085, training_accuracy : 1.0\n",
      "Epoch 28/30, samples 25600/34799 loss : 0.0012092035030946136, training_accuracy : 1.0\n",
      "\n",
      "EPOCH 28 ...\n",
      "Validation Accuracy = 0.973\n",
      "\n",
      "Epoch 29/30, samples 0/34799 loss : 0.00039850769098848104, training_accuracy : 1.0\n",
      "Epoch 29/30, samples 12800/34799 loss : 0.0022634214255958796, training_accuracy : 1.0\n",
      "Epoch 29/30, samples 25600/34799 loss : 0.0038577839732170105, training_accuracy : 1.0\n",
      "\n",
      "EPOCH 29 ...\n",
      "Validation Accuracy = 0.958\n",
      "\n",
      "Epoch 30/30, samples 0/34799 loss : 0.0052572619169950485, training_accuracy : 1.0\n",
      "Epoch 30/30, samples 12800/34799 loss : 0.005193538032472134, training_accuracy : 1.0\n",
      "Epoch 30/30, samples 25600/34799 loss : 0.001010430627502501, training_accuracy : 1.0\n",
      "\n",
      "EPOCH 30 ...\n",
      "Validation Accuracy = 0.968\n",
      "\n",
      "Model saved\n"
     ]
    }
   ],
   "source": [
    "save_model_path = './MyTrafficSignNet'\n",
    "show_every = 12800\n",
    "\n",
    "print(\"Training...\")\n",
    "print()\n",
    "    \n",
    "with tf.Session() as sess:\n",
    "    sess.run(tf.global_variables_initializer())\n",
    "    num_examples = len(X_train)\n",
    "\n",
    "    for i in range(EPOCHS):\n",
    "        X_train, y_train = shuffle(X_train, y_train)\n",
    "        for offset in range(0, num_examples, BATCH_SIZE):\n",
    "            end = offset + BATCH_SIZE\n",
    "            batch_x, batch_y = X_train[offset:end], y_train[offset:end]\n",
    "            sess.run(training_operation, feed_dict={x: batch_x, y: batch_y, keep_prob:dropout_keep_prob})\n",
    "            \n",
    "            if offset % show_every == 0:\n",
    "                loss, training_accuracy = sess.run([loss_operation, accuracy_operation], \n",
    "                                                   feed_dict={x: batch_x, y: batch_y, keep_prob:1.0})\n",
    "\n",
    "                print(\"Epoch {}/{}, samples {}/{} loss : {}, training_accuracy : {}\".format(i+1, EPOCHS, offset, num_examples, loss, training_accuracy))\n",
    "            \n",
    "        validation_accuracy = evaluate(X_valid, y_valid)\n",
    "        print()\n",
    "        print(\"EPOCH {} ...\".format(i+1))\n",
    "        print(\"Validation Accuracy = {:.3f}\".format(validation_accuracy))\n",
    "        print()\n",
    "        \n",
    "    saver.save(sess, save_model_path)\n",
    "    print(\"Model saved\")"
   ]
  },
  {
   "cell_type": "code",
   "execution_count": 11,
   "metadata": {},
   "outputs": [
    {
     "name": "stdout",
     "output_type": "stream",
     "text": [
      "Test Accuracy = 0.963\n"
     ]
    }
   ],
   "source": [
    "with tf.Session() as sess:\n",
    "    saver.restore(sess, tf.train.latest_checkpoint('.'))\n",
    "\n",
    "    test_accuracy = evaluate(X_test, y_test)\n",
    "    print(\"Test Accuracy = {:.3f}\".format(test_accuracy))"
   ]
  },
  {
   "cell_type": "markdown",
   "metadata": {},
   "source": [
    "---\n",
    "\n",
    "## Step 3: Test a Model on New Images\n",
    "\n",
    "To give yourself more insight into how your model is working, download at least five pictures of German traffic signs from the web and use your model to predict the traffic sign type.\n",
    "\n",
    "You may find `signnames.csv` useful as it contains mappings from the class id (integer) to the actual sign name."
   ]
  },
  {
   "cell_type": "markdown",
   "metadata": {},
   "source": [
    "### Load and Output the Images"
   ]
  },
  {
   "cell_type": "code",
   "execution_count": null,
   "metadata": {},
   "outputs": [],
   "source": [
    "### Load the images and plot them here.\n",
    "### Feel free to use as many code cells as needed."
   ]
  },
  {
   "cell_type": "markdown",
   "metadata": {},
   "source": [
    "### Predict the Sign Type for Each Image"
   ]
  },
  {
   "cell_type": "code",
   "execution_count": null,
   "metadata": {},
   "outputs": [],
   "source": [
    "### Run the predictions here and use the model to output the prediction for each image.\n",
    "### Make sure to pre-process the images with the same pre-processing pipeline used earlier.\n",
    "### Feel free to use as many code cells as needed."
   ]
  },
  {
   "cell_type": "markdown",
   "metadata": {},
   "source": [
    "### Analyze Performance"
   ]
  },
  {
   "cell_type": "code",
   "execution_count": null,
   "metadata": {
    "collapsed": true
   },
   "outputs": [],
   "source": [
    "### Calculate the accuracy for these 5 new images. \n",
    "### For example, if the model predicted 1 out of 5 signs correctly, it's 20% accurate on these new images."
   ]
  },
  {
   "cell_type": "markdown",
   "metadata": {},
   "source": [
    "### Output Top 5 Softmax Probabilities For Each Image Found on the Web"
   ]
  },
  {
   "cell_type": "markdown",
   "metadata": {},
   "source": [
    "For each of the new images, print out the model's softmax probabilities to show the **certainty** of the model's predictions (limit the output to the top 5 probabilities for each image). [`tf.nn.top_k`](https://www.tensorflow.org/versions/r0.12/api_docs/python/nn.html#top_k) could prove helpful here. \n",
    "\n",
    "The example below demonstrates how tf.nn.top_k can be used to find the top k predictions for each image.\n",
    "\n",
    "`tf.nn.top_k` will return the values and indices (class ids) of the top k predictions. So if k=3, for each sign, it'll return the 3 largest probabilities (out of a possible 43) and the correspoding class ids.\n",
    "\n",
    "Take this numpy array as an example. The values in the array represent predictions. The array contains softmax probabilities for five candidate images with six possible classes. `tf.nn.top_k` is used to choose the three classes with the highest probability:\n",
    "\n",
    "```\n",
    "# (5, 6) array\n",
    "a = np.array([[ 0.24879643,  0.07032244,  0.12641572,  0.34763842,  0.07893497,\n",
    "         0.12789202],\n",
    "       [ 0.28086119,  0.27569815,  0.08594638,  0.0178669 ,  0.18063401,\n",
    "         0.15899337],\n",
    "       [ 0.26076848,  0.23664738,  0.08020603,  0.07001922,  0.1134371 ,\n",
    "         0.23892179],\n",
    "       [ 0.11943333,  0.29198961,  0.02605103,  0.26234032,  0.1351348 ,\n",
    "         0.16505091],\n",
    "       [ 0.09561176,  0.34396535,  0.0643941 ,  0.16240774,  0.24206137,\n",
    "         0.09155967]])\n",
    "```\n",
    "\n",
    "Running it through `sess.run(tf.nn.top_k(tf.constant(a), k=3))` produces:\n",
    "\n",
    "```\n",
    "TopKV2(values=array([[ 0.34763842,  0.24879643,  0.12789202],\n",
    "       [ 0.28086119,  0.27569815,  0.18063401],\n",
    "       [ 0.26076848,  0.23892179,  0.23664738],\n",
    "       [ 0.29198961,  0.26234032,  0.16505091],\n",
    "       [ 0.34396535,  0.24206137,  0.16240774]]), indices=array([[3, 0, 5],\n",
    "       [0, 1, 4],\n",
    "       [0, 5, 1],\n",
    "       [1, 3, 5],\n",
    "       [1, 4, 3]], dtype=int32))\n",
    "```\n",
    "\n",
    "Looking just at the first row we get `[ 0.34763842,  0.24879643,  0.12789202]`, you can confirm these are the 3 largest probabilities in `a`. You'll also notice `[3, 0, 5]` are the corresponding indices."
   ]
  },
  {
   "cell_type": "code",
   "execution_count": null,
   "metadata": {
    "collapsed": true
   },
   "outputs": [],
   "source": [
    "### Print out the top five softmax probabilities for the predictions on the German traffic sign images found on the web. \n",
    "### Feel free to use as many code cells as needed."
   ]
  },
  {
   "cell_type": "markdown",
   "metadata": {},
   "source": [
    "### Project Writeup\n",
    "\n",
    "Once you have completed the code implementation, document your results in a project writeup using this [template](https://github.com/udacity/CarND-Traffic-Sign-Classifier-Project/blob/master/writeup_template.md) as a guide. The writeup can be in a markdown or pdf file. "
   ]
  },
  {
   "cell_type": "markdown",
   "metadata": {},
   "source": [
    "> **Note**: Once you have completed all of the code implementations and successfully answered each question above, you may finalize your work by exporting the iPython Notebook as an HTML document. You can do this by using the menu above and navigating to  \\n\",\n",
    "    \"**File -> Download as -> HTML (.html)**. Include the finished document along with this notebook as your submission."
   ]
  },
  {
   "cell_type": "markdown",
   "metadata": {},
   "source": [
    "---\n",
    "\n",
    "## Step 4 (Optional): Visualize the Neural Network's State with Test Images\n",
    "\n",
    " This Section is not required to complete but acts as an additional excersise for understaning the output of a neural network's weights. While neural networks can be a great learning device they are often referred to as a black box. We can understand what the weights of a neural network look like better by plotting their feature maps. After successfully training your neural network you can see what it's feature maps look like by plotting the output of the network's weight layers in response to a test stimuli image. From these plotted feature maps, it's possible to see what characteristics of an image the network finds interesting. For a sign, maybe the inner network feature maps react with high activation to the sign's boundary outline or to the contrast in the sign's painted symbol.\n",
    "\n",
    " Provided for you below is the function code that allows you to get the visualization output of any tensorflow weight layer you want. The inputs to the function should be a stimuli image, one used during training or a new one you provided, and then the tensorflow variable name that represents the layer's state during the training process, for instance if you wanted to see what the [LeNet lab's](https://classroom.udacity.com/nanodegrees/nd013/parts/fbf77062-5703-404e-b60c-95b78b2f3f9e/modules/6df7ae49-c61c-4bb2-a23e-6527e69209ec/lessons/601ae704-1035-4287-8b11-e2c2716217ad/concepts/d4aca031-508f-4e0b-b493-e7b706120f81) feature maps looked like for it's second convolutional layer you could enter conv2 as the tf_activation variable.\n",
    "\n",
    "For an example of what feature map outputs look like, check out NVIDIA's results in their paper [End-to-End Deep Learning for Self-Driving Cars](https://devblogs.nvidia.com/parallelforall/deep-learning-self-driving-cars/) in the section Visualization of internal CNN State. NVIDIA was able to show that their network's inner weights had high activations to road boundary lines by comparing feature maps from an image with a clear path to one without. Try experimenting with a similar test to show that your trained network's weights are looking for interesting features, whether it's looking at differences in feature maps from images with or without a sign, or even what feature maps look like in a trained network vs a completely untrained one on the same sign image.\n",
    "\n",
    "<figure>\n",
    " <img src=\"visualize_cnn.png\" width=\"380\" alt=\"Combined Image\" />\n",
    " <figcaption>\n",
    " <p></p> \n",
    " <p style=\"text-align: center;\"> Your output should look something like this (above)</p> \n",
    " </figcaption>\n",
    "</figure>\n",
    " <p></p> \n"
   ]
  },
  {
   "cell_type": "code",
   "execution_count": null,
   "metadata": {
    "collapsed": true
   },
   "outputs": [],
   "source": [
    "### Visualize your network's feature maps here.\n",
    "### Feel free to use as many code cells as needed.\n",
    "\n",
    "# image_input: the test image being fed into the network to produce the feature maps\n",
    "# tf_activation: should be a tf variable name used during your training procedure that represents the calculated state of a specific weight layer\n",
    "# activation_min/max: can be used to view the activation contrast in more detail, by default matplot sets min and max to the actual min and max values of the output\n",
    "# plt_num: used to plot out multiple different weight feature map sets on the same block, just extend the plt number for each new feature map entry\n",
    "\n",
    "def outputFeatureMap(image_input, tf_activation, activation_min=-1, activation_max=-1 ,plt_num=1):\n",
    "    # Here make sure to preprocess your image_input in a way your network expects\n",
    "    # with size, normalization, ect if needed\n",
    "    # image_input =\n",
    "    # Note: x should be the same name as your network's tensorflow data placeholder variable\n",
    "    # If you get an error tf_activation is not defined it may be having trouble accessing the variable from inside a function\n",
    "    activation = tf_activation.eval(session=sess,feed_dict={x : image_input})\n",
    "    featuremaps = activation.shape[3]\n",
    "    plt.figure(plt_num, figsize=(15,15))\n",
    "    for featuremap in range(featuremaps):\n",
    "        plt.subplot(6,8, featuremap+1) # sets the number of feature maps to show on each row and column\n",
    "        plt.title('FeatureMap ' + str(featuremap)) # displays the feature map number\n",
    "        if activation_min != -1 & activation_max != -1:\n",
    "            plt.imshow(activation[0,:,:, featuremap], interpolation=\"nearest\", vmin =activation_min, vmax=activation_max, cmap=\"gray\")\n",
    "        elif activation_max != -1:\n",
    "            plt.imshow(activation[0,:,:, featuremap], interpolation=\"nearest\", vmax=activation_max, cmap=\"gray\")\n",
    "        elif activation_min !=-1:\n",
    "            plt.imshow(activation[0,:,:, featuremap], interpolation=\"nearest\", vmin=activation_min, cmap=\"gray\")\n",
    "        else:\n",
    "            plt.imshow(activation[0,:,:, featuremap], interpolation=\"nearest\", cmap=\"gray\")"
   ]
  }
 ],
 "metadata": {
  "anaconda-cloud": {},
  "kernelspec": {
   "display_name": "Python 3",
   "language": "python",
   "name": "python3"
  },
  "language_info": {
   "codemirror_mode": {
    "name": "ipython",
    "version": 3
   },
   "file_extension": ".py",
   "mimetype": "text/x-python",
   "name": "python",
   "nbconvert_exporter": "python",
   "pygments_lexer": "ipython3",
   "version": "3.5.2"
  },
  "widgets": {
   "state": {},
   "version": "1.1.2"
  }
 },
 "nbformat": 4,
 "nbformat_minor": 1
}
